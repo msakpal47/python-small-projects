{
 "cells": [
  {
   "cell_type": "code",
   "execution_count": 2,
   "id": "bb622672-7bc2-495c-9d5d-46da15413827",
   "metadata": {},
   "outputs": [
    {
     "name": "stdout",
     "output_type": "stream",
     "text": [
      "Rabbit starts running from source_point\n",
      "Turtle starts running from source_point\n",
      "Rabbit reaches destination_point\n",
      "Turtle reaches destination_point\n",
      "Race finished!\n",
      "Turtle lost the race!\n"
     ]
    }
   ],
   "source": [
    "import random\n",
    "import threading\n",
    "import time  \n",
    "\n",
    "completion_times = {}\n",
    "\n",
    "def race(participant, speed):  \n",
    "    print(f'{participant} starts running from source_point')\n",
    "    time.sleep(speed)  \n",
    "    print(f'{participant} reaches destination_point')\n",
    "\n",
    "    completion_times[participant] = speed  \n",
    "\n",
    "racers = {\n",
    "    \"Rabbit\": random.randint(4, 10),\n",
    "    \"Turtle\": random.randint(8, 20),\n",
    "}\n",
    "\n",
    "threads = []  \n",
    "\n",
    "for participant, speed in racers.items():\n",
    "    t = threading.Thread(target=race, args=(participant, speed))  \n",
    "    threads.append(t)  \n",
    "    t.start()  \n",
    "\n",
    "for t in threads:\n",
    "    t.join()  \n",
    "\n",
    "loser = max(completion_times, key=completion_times.get)  \n",
    "\n",
    "print(\"Race finished!\")\n",
    "print(f\"{loser} lost the race!\")\n"
   ]
  },
  {
   "cell_type": "code",
   "execution_count": null,
   "id": "83803bb5-2a67-4922-99f0-614ac009443e",
   "metadata": {},
   "outputs": [],
   "source": []
  }
 ],
 "metadata": {
  "kernelspec": {
   "display_name": "Python 3 (ipykernel)",
   "language": "python",
   "name": "python3"
  },
  "language_info": {
   "codemirror_mode": {
    "name": "ipython",
    "version": 3
   },
   "file_extension": ".py",
   "mimetype": "text/x-python",
   "name": "python",
   "nbconvert_exporter": "python",
   "pygments_lexer": "ipython3",
   "version": "3.13.2"
  }
 },
 "nbformat": 4,
 "nbformat_minor": 5
}
