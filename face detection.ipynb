{
 "cells": [
  {
   "cell_type": "code",
   "execution_count": 7,
   "id": "caa19cb2-6e7c-4637-9c0d-76b7fbbfba86",
   "metadata": {},
   "outputs": [
    {
     "name": "stdout",
     "output_type": "stream",
     "text": [
      "✅ Processed images saved in: C:\\Users\\FINRISE\\Desktop\\output\n"
     ]
    }
   ],
   "source": [
    "import cv2f\n",
    "import os\n",
    "\n",
    "# Define source and output directories\n",
    "source_dir = r\"C:\\Users\\FINRISE\\Desktop\\images\"  # Folder containing source images\n",
    "output_dir = r\"C:\\Users\\FINRISE\\Desktop\\output\"  # Folder to save processed images\n",
    "\n",
    "# Ensure the output directory exists\n",
    "os.makedirs(output_dir, exist_ok=True)\n",
    "\n",
    "# Load Haar Cascade face detection model\n",
    "face_cascade = cv2.CascadeClassifier(cv2.data.haarcascades + \"haarcascade_frontalface_default.xml\")\n",
    "\n",
    "# Get list of all image files in the source directory\n",
    "image_files = [f for f in os.listdir(source_dir) if f.lower().endswith(('.jpg', '.jpeg', '.png'))]\n",
    "\n",
    "# Process each image\n",
    "for image_name in image_files:\n",
    "    image_path = os.path.join(source_dir, image_name)\n",
    "    image = cv2.imread(image_path)\n",
    "\n",
    "    # Check if the image is loaded properly\n",
    "    if image is None:\n",
    "        print(f\"Error: Could not load {image_name}\")\n",
    "        continue\n",
    "\n",
    "    # Resize image for faster processing\n",
    "    image = cv2.resize(image, (800, 600))\n",
    "\n",
    "    # Convert to grayscale and apply histogram equalization\n",
    "    gray = cv2.cvtColor(image, cv2.COLOR_BGR2GRAY)\n",
    "    gray = cv2.equalizeHist(gray)\n",
    "\n",
    "    # Detect faces\n",
    "    faces = face_cascade.detectMultiScale(gray, scaleFactor=1.1, minNeighbors=7, minSize=(50, 50))\n",
    "\n",
    "    # Draw rectangles around detected faces\n",
    "    for (x, y, w, h) in faces:\n",
    "        cv2.rectangle(image, (x, y), (x + w, y + h), (0, 255, 0), 3)\n",
    "\n",
    "    # Save the processed image\n",
    "    output_path = os.path.join(output_dir, f\"processed_{image_name}\")\n",
    "    cv2.imwrite(output_path, image)\n",
    "    \n",
    "    # Show output image (optional)\n",
    "    cv2.imshow(\"Detected Faces\", image)\n",
    "    cv2.waitKey(1000)  # Display each image for 1 second\n",
    "\n",
    "cv2.destroyAllWindows()\n",
    "print(f\"✅ Processed images saved in: {output_dir}\")\n"
   ]
  },
  {
   "cell_type": "code",
   "execution_count": null,
   "id": "790b5896-504d-49ad-9037-95386109b572",
   "metadata": {},
   "outputs": [],
   "source": []
  }
 ],
 "metadata": {
  "kernelspec": {
   "display_name": "Python 3 (ipykernel)",
   "language": "python",
   "name": "python3"
  },
  "language_info": {
   "codemirror_mode": {
    "name": "ipython",
    "version": 3
   },
   "file_extension": ".py",
   "mimetype": "text/x-python",
   "name": "python",
   "nbconvert_exporter": "python",
   "pygments_lexer": "ipython3",
   "version": "3.13.2"
  }
 },
 "nbformat": 4,
 "nbformat_minor": 5
}
